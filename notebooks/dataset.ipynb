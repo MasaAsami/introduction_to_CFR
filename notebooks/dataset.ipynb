{
 "cells": [
  {
   "cell_type": "code",
   "execution_count": 1,
   "metadata": {},
   "outputs": [],
   "source": [
    "import pandas as pd"
   ]
  },
  {
   "cell_type": "code",
   "execution_count": 2,
   "metadata": {},
   "outputs": [],
   "source": [
    "# LaLonde dataset(RCT)\n",
    "RCT_DATA = \"http://www.nber.org/~rdehejia/data/nsw_dw.dta\"\n",
    "\n",
    "# Data limited to cps surveys that were unemployed at the time of the survey.\n",
    "CPS_DATA = \"http://www.nber.org/~rdehejia/data/cps_controls3.dta\"\n",
    "\n",
    "df = pd.concat(\n",
    "    [\n",
    "        pd.read_stata(RCT_DATA).query(\n",
    "            \"treat>0\"\n",
    "        ),  # RCT data, only treated data is extracted.\n",
    "        pd.read_stata(CPS_DATA),\n",
    "    ]\n",
    ").reset_index(drop=True)\n",
    "\n",
    "del df[\"data_id\"]\n",
    "\n",
    "df[\"treat\"] = df[\"treat\"].astype(int)"
   ]
  },
  {
   "cell_type": "code",
   "execution_count": 3,
   "metadata": {},
   "outputs": [
    {
     "data": {
      "text/html": [
       "<div>\n",
       "<style scoped>\n",
       "    .dataframe tbody tr th:only-of-type {\n",
       "        vertical-align: middle;\n",
       "    }\n",
       "\n",
       "    .dataframe tbody tr th {\n",
       "        vertical-align: top;\n",
       "    }\n",
       "\n",
       "    .dataframe thead th {\n",
       "        text-align: right;\n",
       "    }\n",
       "</style>\n",
       "<table border=\"1\" class=\"dataframe\">\n",
       "  <thead>\n",
       "    <tr style=\"text-align: right;\">\n",
       "      <th></th>\n",
       "      <th>treat</th>\n",
       "      <th>age</th>\n",
       "      <th>education</th>\n",
       "      <th>black</th>\n",
       "      <th>hispanic</th>\n",
       "      <th>married</th>\n",
       "      <th>nodegree</th>\n",
       "      <th>re74</th>\n",
       "      <th>re75</th>\n",
       "      <th>re78</th>\n",
       "    </tr>\n",
       "  </thead>\n",
       "  <tbody>\n",
       "    <tr>\n",
       "      <th>491</th>\n",
       "      <td>0</td>\n",
       "      <td>45.0</td>\n",
       "      <td>12.0</td>\n",
       "      <td>0.0</td>\n",
       "      <td>0.0</td>\n",
       "      <td>1.0</td>\n",
       "      <td>0.0</td>\n",
       "      <td>9277.127930</td>\n",
       "      <td>0.000000</td>\n",
       "      <td>12108.490234</td>\n",
       "    </tr>\n",
       "    <tr>\n",
       "      <th>246</th>\n",
       "      <td>0</td>\n",
       "      <td>22.0</td>\n",
       "      <td>9.0</td>\n",
       "      <td>0.0</td>\n",
       "      <td>0.0</td>\n",
       "      <td>1.0</td>\n",
       "      <td>1.0</td>\n",
       "      <td>5683.833008</td>\n",
       "      <td>6038.757812</td>\n",
       "      <td>4742.024902</td>\n",
       "    </tr>\n",
       "    <tr>\n",
       "      <th>165</th>\n",
       "      <td>1</td>\n",
       "      <td>19.0</td>\n",
       "      <td>10.0</td>\n",
       "      <td>0.0</td>\n",
       "      <td>0.0</td>\n",
       "      <td>0.0</td>\n",
       "      <td>1.0</td>\n",
       "      <td>0.000000</td>\n",
       "      <td>5324.108887</td>\n",
       "      <td>13829.620117</td>\n",
       "    </tr>\n",
       "    <tr>\n",
       "      <th>240</th>\n",
       "      <td>0</td>\n",
       "      <td>29.0</td>\n",
       "      <td>8.0</td>\n",
       "      <td>0.0</td>\n",
       "      <td>0.0</td>\n",
       "      <td>1.0</td>\n",
       "      <td>1.0</td>\n",
       "      <td>9169.369141</td>\n",
       "      <td>6352.064941</td>\n",
       "      <td>20575.859375</td>\n",
       "    </tr>\n",
       "    <tr>\n",
       "      <th>175</th>\n",
       "      <td>1</td>\n",
       "      <td>28.0</td>\n",
       "      <td>11.0</td>\n",
       "      <td>1.0</td>\n",
       "      <td>0.0</td>\n",
       "      <td>0.0</td>\n",
       "      <td>1.0</td>\n",
       "      <td>1929.029053</td>\n",
       "      <td>6871.855957</td>\n",
       "      <td>0.000000</td>\n",
       "    </tr>\n",
       "  </tbody>\n",
       "</table>\n",
       "</div>"
      ],
      "text/plain": [
       "     treat   age  education  black  hispanic  married  nodegree         re74  \\\n",
       "491      0  45.0       12.0    0.0       0.0      1.0       0.0  9277.127930   \n",
       "246      0  22.0        9.0    0.0       0.0      1.0       1.0  5683.833008   \n",
       "165      1  19.0       10.0    0.0       0.0      0.0       1.0     0.000000   \n",
       "240      0  29.0        8.0    0.0       0.0      1.0       1.0  9169.369141   \n",
       "175      1  28.0       11.0    1.0       0.0      0.0       1.0  1929.029053   \n",
       "\n",
       "            re75          re78  \n",
       "491     0.000000  12108.490234  \n",
       "246  6038.757812   4742.024902  \n",
       "165  5324.108887  13829.620117  \n",
       "240  6352.064941  20575.859375  \n",
       "175  6871.855957      0.000000  "
      ]
     },
     "execution_count": 3,
     "metadata": {},
     "output_type": "execute_result"
    }
   ],
   "source": [
    "df.sample(5)"
   ]
  },
  {
   "cell_type": "code",
   "execution_count": 4,
   "metadata": {},
   "outputs": [
    {
     "data": {
      "text/plain": [
       "treat\n",
       "0    429\n",
       "1    185\n",
       "Name: re78, dtype: int64"
      ]
     },
     "execution_count": 4,
     "metadata": {},
     "output_type": "execute_result"
    }
   ],
   "source": [
    "df.groupby(\"treat\")[\"re78\"].count()"
   ]
  },
  {
   "cell_type": "code",
   "execution_count": null,
   "metadata": {},
   "outputs": [],
   "source": []
  }
 ],
 "metadata": {
  "kernelspec": {
   "display_name": "Python 3",
   "language": "python",
   "name": "python3"
  },
  "language_info": {
   "codemirror_mode": {
    "name": "ipython",
    "version": 3
   },
   "file_extension": ".py",
   "mimetype": "text/x-python",
   "name": "python",
   "nbconvert_exporter": "python",
   "pygments_lexer": "ipython3",
   "version": "3.7.4"
  }
 },
 "nbformat": 4,
 "nbformat_minor": 2
}
